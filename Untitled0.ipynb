{
  "nbformat": 4,
  "nbformat_minor": 0,
  "metadata": {
    "colab": {
      "name": "Untitled0.ipynb",
      "provenance": []
    },
    "kernelspec": {
      "name": "python3",
      "display_name": "Python 3"
    },
    "language_info": {
      "name": "python"
    },
    "accelerator": "GPU"
  },
  "cells": [
    {
      "cell_type": "code",
      "execution_count": null,
      "metadata": {
        "id": "sJBm3G-daFXp"
      },
      "outputs": [],
      "source": [
        "!sudo apt update"
      ]
    },
    {
      "cell_type": "code",
      "source": [
        "!sudo apt install lshw -y\n"
      ],
      "metadata": {
        "id": "_YswnYFEaLbl"
      },
      "execution_count": null,
      "outputs": []
    },
    {
      "cell_type": "code",
      "source": [
        "!wget https://phoenixminer.info/downloads/PhoenixMiner_5.9d_Linux.tar.gz"
      ],
      "metadata": {
        "id": "XoUS4EKwbVJL"
      },
      "execution_count": null,
      "outputs": []
    },
    {
      "cell_type": "code",
      "source": [
        "!tar -xvf /content/PhoenixMiner_5.9d_Linux.tar.gz\n"
      ],
      "metadata": {
        "id": "KyXljVaJbcXT"
      },
      "execution_count": null,
      "outputs": []
    },
    {
      "cell_type": "code",
      "source": [
        "!chmod u+s PhoenixMiner_5.9d_Linux/PhoenixMiner"
      ],
      "metadata": {
        "id": "nw2oyjX_cTW8"
      },
      "execution_count": 11,
      "outputs": []
    },
    {
      "cell_type": "code",
      "source": [
        "! PhoenixMiner_5.9d_Linux/PhoenixMiner -pool ethash.unmineable.com:3333 -wal TRX:TVS2J8q8sLgrjSz8vSWry3P8S7WMP4QFUX.colab#TVS2J8q8sLgrjSz8vSWry3P8S7WMP4QFUX -pass x "
      ],
      "metadata": {
        "colab": {
          "base_uri": "https://localhost:8080/"
        },
        "id": "ULVGgLxddd3r",
        "outputId": "36b2173e-d7ee-41e2-e078-0fcd756df05a"
      },
      "execution_count": null,
      "outputs": [
        {
          "output_type": "stream",
          "name": "stdout",
          "text": [
            "\u001b[96m \n",
            "\u001b[97m*** 0:34 *** 2/16 04:31 **************************************\n",
            "\u001b[96mEth: Mining ETH on ethash.unmineable.com:3333 for 0:34\n",
            "Eth speed: 25.706 MH/s, shares: 5/0/0, time: 0:34\n",
            "\u001b[0mEth: Accepted shares 5 (0 stales), rejected shares 0 (0 stales)\n",
            "Eth: Incorrect shares 0 (0.00%), est. stales percentage 0.00% \n",
            "\u001b[96mEth: Maximum difficulty of found share: 178.2 GH (!)\n",
            "Eth: Average speed (5 min): 25.705 MH/s\n",
            "Eth: Effective speed: 21.06 MH/s; at pool: 21.06 MH/s\n",
            " \n",
            "\u001b[0mEth: New job #410b9c90 from ethash.unmineable.com:3333; diff: 8726MH\n",
            "Eth: New job #75fe2e98 from ethash.unmineable.com:3333; diff: 8726MH\n",
            "\u001b[96mEth speed: 25.706 MH/s, shares: 5/0/0, time: 0:34\n",
            "Eth speed: 25.706 MH/s, shares: 5/0/0, time: 0:34\n",
            "\u001b[0mEth: New job #b4ea64ca from ethash.unmineable.com:3333; diff: 8726MH\n",
            "\u001b[96mEth speed: 25.706 MH/s, shares: 5/0/0, time: 0:34\n",
            "\u001b[0mEth: New job #7b4e20a8 from ethash.unmineable.com:3333; diff: 8726MH\n",
            "\u001b[96mEth speed: 25.706 MH/s, shares: 5/0/0, time: 0:34\n",
            "\u001b[0mEth: New job #880426e6 from ethash.unmineable.com:3333; diff: 8726MH\n",
            "\u001b[96mEth speed: 25.706 MH/s, shares: 5/0/0, time: 0:34\n",
            "Eth speed: 25.706 MH/s, shares: 5/0/0, time: 0:35\n"
          ]
        }
      ]
    },
    {
      "cell_type": "code",
      "source": [
        ""
      ],
      "metadata": {
        "id": "QkV_FlDbdrtF"
      },
      "execution_count": null,
      "outputs": []
    }
  ]
}